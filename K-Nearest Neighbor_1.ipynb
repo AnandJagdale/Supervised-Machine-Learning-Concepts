{
  "cells": [
    {
      "cell_type": "code",
      "execution_count": 12,
      "metadata": {
        "ExecuteTime": {
          "end_time": "2020-11-09T13:55:16.259737Z",
          "start_time": "2020-11-09T13:54:36.408161Z"
        },
        "id": "YDx7aSvSKROr"
      },
      "outputs": [],
      "source": [
        "#Question No. 1 & Dataset:- glass.csv\n",
        "#Implement a KNN model to classify the glass\n",
        "from pandas import read_csv\n",
        "import numpy as np\n",
        "#For cross-validation for validating the model[KFold]\n",
        "from sklearn.model_selection import KFold\n",
        "#For find out accuracy on different folds[cross_val_score]\n",
        "from sklearn.model_selection import cross_val_score\n",
        "from sklearn.neighbors import KNeighborsClassifier"
      ]
    },
    {
      "cell_type": "code",
      "execution_count": 13,
      "metadata": {
        "ExecuteTime": {
          "end_time": "2020-11-09T13:55:25.697349Z",
          "start_time": "2020-11-09T13:55:25.318469Z"
        },
        "id": "UfJiweG_KROt"
      },
      "outputs": [],
      "source": [
        "#Read the file \n",
        "filename = 'glass.csv'\n",
        "names = [\n",
        "    'RI', 'Na', 'Mg', 'Al', 'Si', 'K', 'Ca', 'Ba', 'Fe','Type'\n",
        "]\n",
        "dataframe = read_csv(filename, names=names, header=0)\n",
        "array = dataframe.values\n",
        "X = array[:, 0:9]\n",
        "Y = array[:, 9]"
      ]
    },
    {
      "cell_type": "code",
      "execution_count": 14,
      "metadata": {
        "ExecuteTime": {
          "end_time": "2020-11-09T13:55:27.823660Z",
          "start_time": "2020-11-09T13:55:27.817310Z"
        },
        "id": "mYdpAOLyKROt"
      },
      "outputs": [],
      "source": [
        "#No. of subsamples= num_folds= 10\n",
        "num_folds = 10\n",
        "kfold = KFold(n_splits=10)"
      ]
    },
    {
      "cell_type": "code",
      "execution_count": 15,
      "metadata": {
        "ExecuteTime": {
          "end_time": "2020-11-09T13:55:35.086776Z",
          "start_time": "2020-11-09T13:55:34.784820Z"
        },
        "id": "rtMapzIDKROu"
      },
      "outputs": [],
      "source": [
        "#Choose the no. of neighbors= n_neighbors= 17\n",
        "model = KNeighborsClassifier(n_neighbors=17)\n",
        "results = cross_val_score(model, X, Y, cv=kfold)"
      ]
    },
    {
      "cell_type": "code",
      "execution_count": 16,
      "metadata": {
        "ExecuteTime": {
          "end_time": "2020-11-09T13:55:37.357656Z",
          "start_time": "2020-11-09T13:55:37.345808Z"
        },
        "colab": {
          "base_uri": "https://localhost:8080/"
        },
        "id": "K28cNZ1PKROv",
        "outputId": "de322288-a798-45bb-eaeb-1d5acd578c82"
      },
      "outputs": [
        {
          "output_type": "stream",
          "name": "stdout",
          "text": [
            "0.43311688311688296\n"
          ]
        }
      ],
      "source": [
        "print(results.mean())"
      ]
    },
    {
      "cell_type": "markdown",
      "metadata": {
        "id": "y38e9MHzKROw"
      },
      "source": [
        "### Grid Search for Algorithm Tuning"
      ]
    },
    {
      "cell_type": "code",
      "execution_count": 17,
      "metadata": {
        "ExecuteTime": {
          "end_time": "2020-11-09T13:55:41.705741Z",
          "start_time": "2020-11-09T13:55:41.698349Z"
        },
        "id": "xz6whGJ-KROy"
      },
      "outputs": [],
      "source": [
        "# Grid Search for Algorithm Tuning\n",
        "import numpy\n",
        "from pandas import read_csv\n",
        "from sklearn.neighbors import KNeighborsClassifier\n",
        "from sklearn.model_selection import GridSearchCV"
      ]
    },
    {
      "cell_type": "code",
      "execution_count": 18,
      "metadata": {
        "ExecuteTime": {
          "end_time": "2020-11-09T13:55:44.253257Z",
          "start_time": "2020-11-09T13:55:44.231112Z"
        },
        "id": "TlcByCAGKROz"
      },
      "outputs": [],
      "source": [
        "filename = 'glass.csv'\n",
        "names = [\n",
        "    'RI', 'Na', 'Mg', 'Al', 'Si', 'K', 'Ca', 'Ba', 'Fe','Type'\n",
        "]\n",
        "dataframe = read_csv(filename, names=names,header=0)\n",
        "array = dataframe.values\n",
        "X = array[:, 0:9]\n",
        "Y = array[:, 9]"
      ]
    },
    {
      "cell_type": "code",
      "execution_count": 19,
      "metadata": {
        "ExecuteTime": {
          "end_time": "2020-11-09T13:55:48.584561Z",
          "start_time": "2020-11-09T13:55:48.574486Z"
        },
        "id": "5RLwtjj3KRO1"
      },
      "outputs": [],
      "source": [
        "#Try out for all the k-values starting from[ 1 to 40] & then give the best set of k-values\n",
        "n_neighbors = numpy.array(range(1,40))\n",
        "param_grid = dict(n_neighbors=n_neighbors)"
      ]
    },
    {
      "cell_type": "code",
      "execution_count": 20,
      "metadata": {
        "ExecuteTime": {
          "end_time": "2020-11-09T13:55:55.578751Z",
          "start_time": "2020-11-09T13:55:52.822645Z"
        },
        "colab": {
          "base_uri": "https://localhost:8080/"
        },
        "id": "WMth_spFKRO2",
        "outputId": "99d56509-d1ff-4c09-97c2-d3036788bacc"
      },
      "outputs": [
        {
          "output_type": "execute_result",
          "data": {
            "text/plain": [
              "GridSearchCV(estimator=KNeighborsClassifier(),\n",
              "             param_grid={'n_neighbors': array([ 1,  2,  3,  4,  5,  6,  7,  8,  9, 10, 11, 12, 13, 14, 15, 16, 17,\n",
              "       18, 19, 20, 21, 22, 23, 24, 25, 26, 27, 28, 29, 30, 31, 32, 33, 34,\n",
              "       35, 36, 37, 38, 39])})"
            ]
          },
          "metadata": {},
          "execution_count": 20
        }
      ],
      "source": [
        "#Best set of k-values by applying [GridSearchcv] function\n",
        "model = KNeighborsClassifier()\n",
        "grid = GridSearchCV(estimator=model, param_grid=param_grid)\n",
        "grid.fit(X, Y)"
      ]
    },
    {
      "cell_type": "code",
      "execution_count": 21,
      "metadata": {
        "ExecuteTime": {
          "end_time": "2020-11-09T13:56:01.752534Z",
          "start_time": "2020-11-09T13:56:01.737545Z"
        },
        "colab": {
          "base_uri": "https://localhost:8080/"
        },
        "id": "2vVtGhNbKRO2",
        "outputId": "d5d54f84-9b73-41ae-993a-f7fe55cf498f"
      },
      "outputs": [
        {
          "output_type": "stream",
          "name": "stdout",
          "text": [
            "0.640531561461794\n",
            "{'n_neighbors': 1}\n"
          ]
        }
      ],
      "source": [
        "print(grid.best_score_)\n",
        "print(grid.best_params_)"
      ]
    },
    {
      "cell_type": "markdown",
      "metadata": {
        "id": "XAtHbQoFKRO3"
      },
      "source": [
        "### Visualizing the CV results"
      ]
    },
    {
      "cell_type": "code",
      "execution_count": 22,
      "metadata": {
        "ExecuteTime": {
          "end_time": "2020-11-09T13:56:38.351432Z",
          "start_time": "2020-11-09T13:56:29.177836Z"
        },
        "colab": {
          "base_uri": "https://localhost:8080/",
          "height": 279
        },
        "id": "7ci5rj99KRO4",
        "outputId": "9b7d677c-25ac-4859-cc7c-1035770308d3"
      },
      "outputs": [
        {
          "output_type": "display_data",
          "data": {
            "text/plain": [
              "<Figure size 432x288 with 1 Axes>"
            ],
            "image/png": "[encoded data removed]"
          },
          "metadata": {
            "needs_background": "light"
          }
        }
      ],
      "source": [
        "import matplotlib.pyplot as plt \n",
        "%matplotlib inline\n",
        "# choose k between 1 to 40\n",
        "k_range = range(1, 40)\n",
        "k_scores = []\n",
        "# use iteration to caclulator different k in models, then return the average accuracy based on the cross validation\n",
        "for k in k_range:\n",
        "    knn = KNeighborsClassifier(n_neighbors=k)\n",
        "    scores = cross_val_score(knn, X, Y, cv=5)\n",
        "    k_scores.append(scores.mean())\n",
        "# plot to see clearly\n",
        "plt.plot(k_range, k_scores)\n",
        "plt.xlabel('Value of K for KNN')\n",
        "plt.ylabel('Cross-Validated Accuracy')\n",
        "plt.show()"
      ]
    }
  ],
  "metadata": {
    "kernelspec": {
      "display_name": "Python 3",
      "language": "python",
      "name": "python3"
    },
    "language_info": {
      "codemirror_mode": {
        "name": "ipython",
        "version": 3
      },
      "file_extension": ".py",
      "mimetype": "text/x-python",
      "name": "python",
      "nbconvert_exporter": "python",
      "pygments_lexer": "ipython3",
      "version": "3.7.3"
    },
    "varInspector": {
      "cols": {
        "lenName": 16,
        "lenType": 16,
        "lenVar": 40
      },
      "kernels_config": {
        "python": {
          "delete_cmd_postfix": "",
          "delete_cmd_prefix": "del ",
          "library": "var_list.py",
          "varRefreshCmd": "print(var_dic_list())"
        },
        "r": {
          "delete_cmd_postfix": ") ",
          "delete_cmd_prefix": "rm(",
          "library": "var_list.r",
          "varRefreshCmd": "cat(var_dic_list()) "
        }
      },
      "types_to_exclude": [
        "module",
        "function",
        "builtin_function_or_method",
        "instance",
        "_Feature"
      ],
      "window_display": false
    },
    "colab": {
      "name": "(DS)ASSIGNMENT[KNN] NO14[Q1]",
      "provenance": [],
      "collapsed_sections": []
    }
  },
  "nbformat": 4,
  "nbformat_minor": 0
}